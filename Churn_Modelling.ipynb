{
  "nbformat": 4,
  "nbformat_minor": 0,
  "metadata": {
    "colab": {
      "name": "Churn_Modelling.ipynb",
      "provenance": []
    },
    "kernelspec": {
      "name": "python3",
      "display_name": "Python 3"
    }
  },
  "cells": [
    {
      "cell_type": "code",
      "metadata": {
        "id": "HZ2HF9tx_T8Q",
        "colab_type": "code",
        "outputId": "294278b3-7873-41bd-d2ed-7ea9205bbae0",
        "colab": {
          "base_uri": "https://localhost:8080/",
          "height": 122
        }
      },
      "source": [
        "#Mounting the drive or connecting the google drive to colab\n",
        "from google.colab import drive\n",
        "drive.mount('/content/drive')"
      ],
      "execution_count": 1,
      "outputs": [
        {
          "output_type": "stream",
          "text": [
            "Go to this URL in a browser: https://accounts.google.com/o/oauth2/auth?client_id=947318989803-6bn6qk8qdgf4n4g3pfee6491hc0brc4i.apps.googleusercontent.com&redirect_uri=urn%3aietf%3awg%3aoauth%3a2.0%3aoob&response_type=code&scope=email%20https%3a%2f%2fwww.googleapis.com%2fauth%2fdocs.test%20https%3a%2f%2fwww.googleapis.com%2fauth%2fdrive%20https%3a%2f%2fwww.googleapis.com%2fauth%2fdrive.photos.readonly%20https%3a%2f%2fwww.googleapis.com%2fauth%2fpeopleapi.readonly\n",
            "\n",
            "Enter your authorization code:\n",
            "··········\n",
            "Mounted at /content/drive\n"
          ],
          "name": "stdout"
        }
      ]
    },
    {
      "cell_type": "code",
      "metadata": {
        "id": "Dy_TOsW6_bjl",
        "colab_type": "code",
        "colab": {}
      },
      "source": [
        "#Instaling the keras libary\n",
        "!pip install -q keras"
      ],
      "execution_count": 0,
      "outputs": []
    },
    {
      "cell_type": "code",
      "metadata": {
        "id": "0WftwnP1AGw2",
        "colab_type": "code",
        "colab": {}
      },
      "source": [
        "#Importing the required Libary\n",
        "import pandas as pd\n",
        "import numpy as np\n",
        "import matplotlib.pyplot as plt\n"
      ],
      "execution_count": 0,
      "outputs": []
    },
    {
      "cell_type": "code",
      "metadata": {
        "id": "Squul6ibARUH",
        "colab_type": "code",
        "colab": {}
      },
      "source": [
        "#importing the dataset\n",
        "dataset=pd.read_csv('/content/drive/My Drive/Churn_Modelling.csv')"
      ],
      "execution_count": 0,
      "outputs": []
    },
    {
      "cell_type": "code",
      "metadata": {
        "id": "ZyQlAVNbAdgS",
        "colab_type": "code",
        "outputId": "ea91bfb2-e2f2-46e5-e36d-d7fcff79a2a5",
        "colab": {
          "base_uri": "https://localhost:8080/",
          "height": 224
        }
      },
      "source": [
        "#Seeing the first 5 entries\n",
        "dataset.head()"
      ],
      "execution_count": 5,
      "outputs": [
        {
          "output_type": "execute_result",
          "data": {
            "text/html": [
              "<div>\n",
              "<style scoped>\n",
              "    .dataframe tbody tr th:only-of-type {\n",
              "        vertical-align: middle;\n",
              "    }\n",
              "\n",
              "    .dataframe tbody tr th {\n",
              "        vertical-align: top;\n",
              "    }\n",
              "\n",
              "    .dataframe thead th {\n",
              "        text-align: right;\n",
              "    }\n",
              "</style>\n",
              "<table border=\"1\" class=\"dataframe\">\n",
              "  <thead>\n",
              "    <tr style=\"text-align: right;\">\n",
              "      <th></th>\n",
              "      <th>RowNumber</th>\n",
              "      <th>CustomerId</th>\n",
              "      <th>Surname</th>\n",
              "      <th>CreditScore</th>\n",
              "      <th>Geography</th>\n",
              "      <th>Gender</th>\n",
              "      <th>Age</th>\n",
              "      <th>Tenure</th>\n",
              "      <th>Balance</th>\n",
              "      <th>NumOfProducts</th>\n",
              "      <th>HasCrCard</th>\n",
              "      <th>IsActiveMember</th>\n",
              "      <th>EstimatedSalary</th>\n",
              "      <th>Exited</th>\n",
              "    </tr>\n",
              "  </thead>\n",
              "  <tbody>\n",
              "    <tr>\n",
              "      <th>0</th>\n",
              "      <td>1</td>\n",
              "      <td>15634602</td>\n",
              "      <td>Hargrave</td>\n",
              "      <td>619</td>\n",
              "      <td>France</td>\n",
              "      <td>Female</td>\n",
              "      <td>42</td>\n",
              "      <td>2</td>\n",
              "      <td>0.00</td>\n",
              "      <td>1</td>\n",
              "      <td>1</td>\n",
              "      <td>1</td>\n",
              "      <td>101348.88</td>\n",
              "      <td>1</td>\n",
              "    </tr>\n",
              "    <tr>\n",
              "      <th>1</th>\n",
              "      <td>2</td>\n",
              "      <td>15647311</td>\n",
              "      <td>Hill</td>\n",
              "      <td>608</td>\n",
              "      <td>Spain</td>\n",
              "      <td>Female</td>\n",
              "      <td>41</td>\n",
              "      <td>1</td>\n",
              "      <td>83807.86</td>\n",
              "      <td>1</td>\n",
              "      <td>0</td>\n",
              "      <td>1</td>\n",
              "      <td>112542.58</td>\n",
              "      <td>0</td>\n",
              "    </tr>\n",
              "    <tr>\n",
              "      <th>2</th>\n",
              "      <td>3</td>\n",
              "      <td>15619304</td>\n",
              "      <td>Onio</td>\n",
              "      <td>502</td>\n",
              "      <td>France</td>\n",
              "      <td>Female</td>\n",
              "      <td>42</td>\n",
              "      <td>8</td>\n",
              "      <td>159660.80</td>\n",
              "      <td>3</td>\n",
              "      <td>1</td>\n",
              "      <td>0</td>\n",
              "      <td>113931.57</td>\n",
              "      <td>1</td>\n",
              "    </tr>\n",
              "    <tr>\n",
              "      <th>3</th>\n",
              "      <td>4</td>\n",
              "      <td>15701354</td>\n",
              "      <td>Boni</td>\n",
              "      <td>699</td>\n",
              "      <td>France</td>\n",
              "      <td>Female</td>\n",
              "      <td>39</td>\n",
              "      <td>1</td>\n",
              "      <td>0.00</td>\n",
              "      <td>2</td>\n",
              "      <td>0</td>\n",
              "      <td>0</td>\n",
              "      <td>93826.63</td>\n",
              "      <td>0</td>\n",
              "    </tr>\n",
              "    <tr>\n",
              "      <th>4</th>\n",
              "      <td>5</td>\n",
              "      <td>15737888</td>\n",
              "      <td>Mitchell</td>\n",
              "      <td>850</td>\n",
              "      <td>Spain</td>\n",
              "      <td>Female</td>\n",
              "      <td>43</td>\n",
              "      <td>2</td>\n",
              "      <td>125510.82</td>\n",
              "      <td>1</td>\n",
              "      <td>1</td>\n",
              "      <td>1</td>\n",
              "      <td>79084.10</td>\n",
              "      <td>0</td>\n",
              "    </tr>\n",
              "  </tbody>\n",
              "</table>\n",
              "</div>"
            ],
            "text/plain": [
              "   RowNumber  CustomerId   Surname  ...  IsActiveMember EstimatedSalary Exited\n",
              "0          1    15634602  Hargrave  ...               1       101348.88      1\n",
              "1          2    15647311      Hill  ...               1       112542.58      0\n",
              "2          3    15619304      Onio  ...               0       113931.57      1\n",
              "3          4    15701354      Boni  ...               0        93826.63      0\n",
              "4          5    15737888  Mitchell  ...               1        79084.10      0\n",
              "\n",
              "[5 rows x 14 columns]"
            ]
          },
          "metadata": {
            "tags": []
          },
          "execution_count": 5
        }
      ]
    },
    {
      "cell_type": "code",
      "metadata": {
        "id": "GjO4Aoy5Af82",
        "colab_type": "code",
        "colab": {}
      },
      "source": [
        "#Spliting the dependent and indepented variables\n",
        "x=dataset.iloc[:,3:13]\n",
        "y=dataset.iloc[:,13]"
      ],
      "execution_count": 0,
      "outputs": []
    },
    {
      "cell_type": "code",
      "metadata": {
        "id": "k7c9yFdXA2yS",
        "colab_type": "code",
        "colab": {}
      },
      "source": [
        "#Converting categorical data to numeric categorical data\n",
        "geography=pd.get_dummies(x[\"Geography\"],drop_first=True)\n",
        "gender=pd.get_dummies(x[\"Gender\"],drop_first=True)"
      ],
      "execution_count": 0,
      "outputs": []
    },
    {
      "cell_type": "code",
      "metadata": {
        "id": "HAn_wtplA54P",
        "colab_type": "code",
        "colab": {}
      },
      "source": [
        "#joining dummy variable to the dataset\n",
        "x=pd.concat([x,geography,gender],axis=1)"
      ],
      "execution_count": 0,
      "outputs": []
    },
    {
      "cell_type": "code",
      "metadata": {
        "id": "u07ESmsIA9F-",
        "colab_type": "code",
        "colab": {}
      },
      "source": [
        "#dropping the unused data variables \n",
        "x=x.drop(['Geography','Gender'],axis=1)"
      ],
      "execution_count": 0,
      "outputs": []
    },
    {
      "cell_type": "code",
      "metadata": {
        "id": "L8aNx5v-A_0Q",
        "colab_type": "code",
        "colab": {}
      },
      "source": [
        "#Diving the train and test data\n",
        "from sklearn.model_selection import train_test_split\n",
        "x_train,x_test,y_train,y_test=train_test_split(x,y,test_size=0.3 ,random_state=0)\n"
      ],
      "execution_count": 0,
      "outputs": []
    },
    {
      "cell_type": "code",
      "metadata": {
        "id": "-7wXJgROBCvk",
        "colab_type": "code",
        "colab": {}
      },
      "source": [
        "#Standardizing the variable making into one scale\n",
        "from sklearn.preprocessing import StandardScaler\n",
        "standard=StandardScaler()\n",
        "X_train=standard.fit_transform(x_train)\n",
        "X_test=standard.fit(x_test)\n"
      ],
      "execution_count": 0,
      "outputs": []
    },
    {
      "cell_type": "code",
      "metadata": {
        "id": "yzVLuoN-BFoP",
        "colab_type": "code",
        "outputId": "16030410-50e7-4027-96f4-26b6d0a31e39",
        "colab": {
          "base_uri": "https://localhost:8080/",
          "height": 80
        }
      },
      "source": [
        "#importing the keras libaries\n",
        "import keras\n",
        "from keras.models import Sequential\n",
        "from keras.layers import Dense\n",
        "from keras.layers import LeakyReLU\n",
        "from keras.layers import Dropout"
      ],
      "execution_count": 12,
      "outputs": [
        {
          "output_type": "stream",
          "text": [
            "Using TensorFlow backend.\n"
          ],
          "name": "stderr"
        },
        {
          "output_type": "display_data",
          "data": {
            "text/html": [
              "<p style=\"color: red;\">\n",
              "The default version of TensorFlow in Colab will soon switch to TensorFlow 2.x.<br>\n",
              "We recommend you <a href=\"https://www.tensorflow.org/guide/migrate\" target=\"_blank\">upgrade</a> now \n",
              "or ensure your notebook will continue to use TensorFlow 1.x via the <code>%tensorflow_version 1.x</code> magic:\n",
              "<a href=\"https://colab.research.google.com/notebooks/tensorflow_version.ipynb\" target=\"_blank\">more info</a>.</p>\n"
            ],
            "text/plain": [
              "<IPython.core.display.HTML object>"
            ]
          },
          "metadata": {
            "tags": []
          }
        }
      ]
    },
    {
      "cell_type": "code",
      "metadata": {
        "id": "IBrb6sDdBJcg",
        "colab_type": "code",
        "outputId": "54958fdc-7c2b-47a3-e8f0-c8ebc307cb22",
        "colab": {
          "base_uri": "https://localhost:8080/",
          "height": 71
        }
      },
      "source": [
        "#loading the Model\n",
        "classifier=Sequential()\n"
      ],
      "execution_count": 13,
      "outputs": [
        {
          "output_type": "stream",
          "text": [
            "WARNING:tensorflow:From /usr/local/lib/python3.6/dist-packages/keras/backend/tensorflow_backend.py:66: The name tf.get_default_graph is deprecated. Please use tf.compat.v1.get_default_graph instead.\n",
            "\n"
          ],
          "name": "stdout"
        }
      ]
    },
    {
      "cell_type": "code",
      "metadata": {
        "id": "4oEXlxmPB1O5",
        "colab_type": "code",
        "colab": {
          "base_uri": "https://localhost:8080/",
          "height": 105
        },
        "outputId": "467351fc-1560-4313-9a86-386feaa38da9"
      },
      "source": [
        "#Adding the Hidden layers\n",
        "classifier.add(Dense(units=6,kernel_initializer=\"he_uniform\",activation='relu',input_dim=11))\n",
        "classifier.add(Dense(units=6,kernel_initializer=\"he_uniform\",activation='relu'))\n"
      ],
      "execution_count": 14,
      "outputs": [
        {
          "output_type": "stream",
          "text": [
            "WARNING:tensorflow:From /usr/local/lib/python3.6/dist-packages/keras/backend/tensorflow_backend.py:541: The name tf.placeholder is deprecated. Please use tf.compat.v1.placeholder instead.\n",
            "\n",
            "WARNING:tensorflow:From /usr/local/lib/python3.6/dist-packages/keras/backend/tensorflow_backend.py:4432: The name tf.random_uniform is deprecated. Please use tf.random.uniform instead.\n",
            "\n"
          ],
          "name": "stdout"
        }
      ]
    },
    {
      "cell_type": "code",
      "metadata": {
        "id": "nilCw-FrCoaF",
        "colab_type": "code",
        "colab": {}
      },
      "source": [
        "#Adding the output layer\n",
        "classifier.add(Dense(units=1,kernel_initializer=\"glorot_uniform\",activation='sigmoid'))"
      ],
      "execution_count": 0,
      "outputs": []
    },
    {
      "cell_type": "code",
      "metadata": {
        "id": "XOHb0ZrcDPZi",
        "colab_type": "code",
        "colab": {
          "base_uri": "https://localhost:8080/",
          "height": 156
        },
        "outputId": "cd658072-3151-4b58-d58a-d079d086e8d6"
      },
      "source": [
        "#Compling the model\n",
        "classifier.compile(optimizer=\"adam\",metrics=['accuracy'],loss=\"binary_crossentropy\")"
      ],
      "execution_count": 16,
      "outputs": [
        {
          "output_type": "stream",
          "text": [
            "WARNING:tensorflow:From /usr/local/lib/python3.6/dist-packages/keras/optimizers.py:793: The name tf.train.Optimizer is deprecated. Please use tf.compat.v1.train.Optimizer instead.\n",
            "\n",
            "WARNING:tensorflow:From /usr/local/lib/python3.6/dist-packages/keras/backend/tensorflow_backend.py:3657: The name tf.log is deprecated. Please use tf.math.log instead.\n",
            "\n",
            "WARNING:tensorflow:From /usr/local/lib/python3.6/dist-packages/tensorflow_core/python/ops/nn_impl.py:183: where (from tensorflow.python.ops.array_ops) is deprecated and will be removed in a future version.\n",
            "Instructions for updating:\n",
            "Use tf.where in 2.0, which has the same broadcast rule as np.where\n"
          ],
          "name": "stdout"
        }
      ]
    },
    {
      "cell_type": "code",
      "metadata": {
        "id": "T8GovY5lDscD",
        "colab_type": "code",
        "outputId": "13cecf0d-d577-4fdd-90d7-794b063a6bdd",
        "colab": {
          "base_uri": "https://localhost:8080/",
          "height": 1000
        }
      },
      "source": [
        "#Fitting the model\n",
        "model_history=classifier.fit(X_train,y_train,batch_size=10,validation_split=.33,nb_epoch=100)"
      ],
      "execution_count": 17,
      "outputs": [
        {
          "output_type": "stream",
          "text": [
            "WARNING:tensorflow:From /usr/local/lib/python3.6/dist-packages/keras/backend/tensorflow_backend.py:1033: The name tf.assign_add is deprecated. Please use tf.compat.v1.assign_add instead.\n",
            "\n"
          ],
          "name": "stdout"
        },
        {
          "output_type": "stream",
          "text": [
            "/usr/local/lib/python3.6/dist-packages/ipykernel_launcher.py:1: UserWarning: The `nb_epoch` argument in `fit` has been renamed `epochs`.\n",
            "  \"\"\"Entry point for launching an IPython kernel.\n"
          ],
          "name": "stderr"
        },
        {
          "output_type": "stream",
          "text": [
            "WARNING:tensorflow:From /usr/local/lib/python3.6/dist-packages/keras/backend/tensorflow_backend.py:1020: The name tf.assign is deprecated. Please use tf.compat.v1.assign instead.\n",
            "\n",
            "WARNING:tensorflow:From /usr/local/lib/python3.6/dist-packages/keras/backend/tensorflow_backend.py:3005: The name tf.Session is deprecated. Please use tf.compat.v1.Session instead.\n",
            "\n",
            "Train on 4689 samples, validate on 2311 samples\n",
            "Epoch 1/100\n",
            "WARNING:tensorflow:From /usr/local/lib/python3.6/dist-packages/keras/backend/tensorflow_backend.py:190: The name tf.get_default_session is deprecated. Please use tf.compat.v1.get_default_session instead.\n",
            "\n",
            "WARNING:tensorflow:From /usr/local/lib/python3.6/dist-packages/keras/backend/tensorflow_backend.py:197: The name tf.ConfigProto is deprecated. Please use tf.compat.v1.ConfigProto instead.\n",
            "\n",
            "WARNING:tensorflow:From /usr/local/lib/python3.6/dist-packages/keras/backend/tensorflow_backend.py:207: The name tf.global_variables is deprecated. Please use tf.compat.v1.global_variables instead.\n",
            "\n",
            "WARNING:tensorflow:From /usr/local/lib/python3.6/dist-packages/keras/backend/tensorflow_backend.py:216: The name tf.is_variable_initialized is deprecated. Please use tf.compat.v1.is_variable_initialized instead.\n",
            "\n",
            "WARNING:tensorflow:From /usr/local/lib/python3.6/dist-packages/keras/backend/tensorflow_backend.py:223: The name tf.variables_initializer is deprecated. Please use tf.compat.v1.variables_initializer instead.\n",
            "\n",
            "4689/4689 [==============================] - 1s 310us/step - loss: 0.5235 - acc: 0.7501 - val_loss: 0.4846 - val_acc: 0.7962\n",
            "Epoch 2/100\n",
            "4689/4689 [==============================] - 1s 163us/step - loss: 0.4601 - acc: 0.7983 - val_loss: 0.4664 - val_acc: 0.7962\n",
            "Epoch 3/100\n",
            "4689/4689 [==============================] - 1s 157us/step - loss: 0.4449 - acc: 0.7991 - val_loss: 0.4563 - val_acc: 0.7975\n",
            "Epoch 4/100\n",
            "4689/4689 [==============================] - 1s 159us/step - loss: 0.4351 - acc: 0.8029 - val_loss: 0.4483 - val_acc: 0.7984\n",
            "Epoch 5/100\n",
            "4689/4689 [==============================] - 1s 161us/step - loss: 0.4268 - acc: 0.8074 - val_loss: 0.4397 - val_acc: 0.8061\n",
            "Epoch 6/100\n",
            "4689/4689 [==============================] - 1s 165us/step - loss: 0.4169 - acc: 0.8177 - val_loss: 0.4272 - val_acc: 0.8170\n",
            "Epoch 7/100\n",
            "4689/4689 [==============================] - 1s 162us/step - loss: 0.4035 - acc: 0.8287 - val_loss: 0.4129 - val_acc: 0.8213\n",
            "Epoch 8/100\n",
            "4689/4689 [==============================] - 1s 162us/step - loss: 0.3897 - acc: 0.8334 - val_loss: 0.4018 - val_acc: 0.8273\n",
            "Epoch 9/100\n",
            "4689/4689 [==============================] - 1s 159us/step - loss: 0.3783 - acc: 0.8386 - val_loss: 0.3942 - val_acc: 0.8282\n",
            "Epoch 10/100\n",
            "4689/4689 [==============================] - 1s 161us/step - loss: 0.3704 - acc: 0.8439 - val_loss: 0.3866 - val_acc: 0.8299\n",
            "Epoch 11/100\n",
            "4689/4689 [==============================] - 1s 164us/step - loss: 0.3650 - acc: 0.8456 - val_loss: 0.3835 - val_acc: 0.8269\n",
            "Epoch 12/100\n",
            "4689/4689 [==============================] - 1s 159us/step - loss: 0.3609 - acc: 0.8484 - val_loss: 0.3795 - val_acc: 0.8356\n",
            "Epoch 13/100\n",
            "4689/4689 [==============================] - 1s 163us/step - loss: 0.3578 - acc: 0.8509 - val_loss: 0.3766 - val_acc: 0.8364\n",
            "Epoch 14/100\n",
            "4689/4689 [==============================] - 1s 159us/step - loss: 0.3559 - acc: 0.8511 - val_loss: 0.3751 - val_acc: 0.8403\n",
            "Epoch 15/100\n",
            "4689/4689 [==============================] - 1s 164us/step - loss: 0.3537 - acc: 0.8522 - val_loss: 0.3753 - val_acc: 0.8364\n",
            "Epoch 16/100\n",
            "4689/4689 [==============================] - 1s 162us/step - loss: 0.3522 - acc: 0.8541 - val_loss: 0.3734 - val_acc: 0.8390\n",
            "Epoch 17/100\n",
            "4689/4689 [==============================] - 1s 162us/step - loss: 0.3501 - acc: 0.8556 - val_loss: 0.3754 - val_acc: 0.8412\n",
            "Epoch 18/100\n",
            "4689/4689 [==============================] - 1s 164us/step - loss: 0.3498 - acc: 0.8550 - val_loss: 0.3710 - val_acc: 0.8403\n",
            "Epoch 19/100\n",
            "4689/4689 [==============================] - 1s 161us/step - loss: 0.3482 - acc: 0.8563 - val_loss: 0.3699 - val_acc: 0.8399\n",
            "Epoch 20/100\n",
            "4689/4689 [==============================] - 1s 159us/step - loss: 0.3476 - acc: 0.8588 - val_loss: 0.3710 - val_acc: 0.8455\n",
            "Epoch 21/100\n",
            "4689/4689 [==============================] - 1s 160us/step - loss: 0.3465 - acc: 0.8575 - val_loss: 0.3689 - val_acc: 0.8464\n",
            "Epoch 22/100\n",
            "4689/4689 [==============================] - 1s 161us/step - loss: 0.3451 - acc: 0.8584 - val_loss: 0.3704 - val_acc: 0.8460\n",
            "Epoch 23/100\n",
            "4689/4689 [==============================] - 1s 158us/step - loss: 0.3449 - acc: 0.8586 - val_loss: 0.3697 - val_acc: 0.8473\n",
            "Epoch 24/100\n",
            "4689/4689 [==============================] - 1s 170us/step - loss: 0.3441 - acc: 0.8571 - val_loss: 0.3667 - val_acc: 0.8468\n",
            "Epoch 25/100\n",
            "4689/4689 [==============================] - 1s 165us/step - loss: 0.3432 - acc: 0.8595 - val_loss: 0.3660 - val_acc: 0.8498\n",
            "Epoch 26/100\n",
            "4689/4689 [==============================] - 1s 160us/step - loss: 0.3425 - acc: 0.8607 - val_loss: 0.3658 - val_acc: 0.8490\n",
            "Epoch 27/100\n",
            "4689/4689 [==============================] - 1s 154us/step - loss: 0.3417 - acc: 0.8610 - val_loss: 0.3646 - val_acc: 0.8507\n",
            "Epoch 28/100\n",
            "4689/4689 [==============================] - 1s 154us/step - loss: 0.3402 - acc: 0.8605 - val_loss: 0.3651 - val_acc: 0.8498\n",
            "Epoch 29/100\n",
            "4689/4689 [==============================] - 1s 143us/step - loss: 0.3399 - acc: 0.8605 - val_loss: 0.3656 - val_acc: 0.8503\n",
            "Epoch 30/100\n",
            "4689/4689 [==============================] - 1s 158us/step - loss: 0.3387 - acc: 0.8612 - val_loss: 0.3631 - val_acc: 0.8529\n",
            "Epoch 31/100\n",
            "4689/4689 [==============================] - 1s 156us/step - loss: 0.3381 - acc: 0.8618 - val_loss: 0.3628 - val_acc: 0.8524\n",
            "Epoch 32/100\n",
            "4689/4689 [==============================] - 1s 155us/step - loss: 0.3380 - acc: 0.8595 - val_loss: 0.3622 - val_acc: 0.8529\n",
            "Epoch 33/100\n",
            "4689/4689 [==============================] - 1s 156us/step - loss: 0.3374 - acc: 0.8627 - val_loss: 0.3632 - val_acc: 0.8524\n",
            "Epoch 34/100\n",
            "4689/4689 [==============================] - 1s 161us/step - loss: 0.3368 - acc: 0.8601 - val_loss: 0.3612 - val_acc: 0.8542\n",
            "Epoch 35/100\n",
            "4689/4689 [==============================] - 1s 162us/step - loss: 0.3365 - acc: 0.8605 - val_loss: 0.3637 - val_acc: 0.8507\n",
            "Epoch 36/100\n",
            "4689/4689 [==============================] - 1s 160us/step - loss: 0.3365 - acc: 0.8614 - val_loss: 0.3616 - val_acc: 0.8529\n",
            "Epoch 37/100\n",
            "4689/4689 [==============================] - 1s 161us/step - loss: 0.3359 - acc: 0.8629 - val_loss: 0.3617 - val_acc: 0.8524\n",
            "Epoch 38/100\n",
            "4689/4689 [==============================] - 1s 163us/step - loss: 0.3354 - acc: 0.8612 - val_loss: 0.3623 - val_acc: 0.8516\n",
            "Epoch 39/100\n",
            "4689/4689 [==============================] - 1s 162us/step - loss: 0.3351 - acc: 0.8635 - val_loss: 0.3607 - val_acc: 0.8520\n",
            "Epoch 40/100\n",
            "4689/4689 [==============================] - 1s 157us/step - loss: 0.3347 - acc: 0.8618 - val_loss: 0.3606 - val_acc: 0.8516\n",
            "Epoch 41/100\n",
            "4689/4689 [==============================] - 1s 158us/step - loss: 0.3337 - acc: 0.8610 - val_loss: 0.3606 - val_acc: 0.8546\n",
            "Epoch 42/100\n",
            "4689/4689 [==============================] - 1s 156us/step - loss: 0.3338 - acc: 0.8597 - val_loss: 0.3615 - val_acc: 0.8537\n",
            "Epoch 43/100\n",
            "4689/4689 [==============================] - 1s 156us/step - loss: 0.3330 - acc: 0.8627 - val_loss: 0.3601 - val_acc: 0.8533\n",
            "Epoch 44/100\n",
            "4689/4689 [==============================] - 1s 154us/step - loss: 0.3330 - acc: 0.8627 - val_loss: 0.3613 - val_acc: 0.8529\n",
            "Epoch 45/100\n",
            "4689/4689 [==============================] - 1s 159us/step - loss: 0.3320 - acc: 0.8646 - val_loss: 0.3600 - val_acc: 0.8533\n",
            "Epoch 46/100\n",
            "4689/4689 [==============================] - 1s 158us/step - loss: 0.3320 - acc: 0.8627 - val_loss: 0.3603 - val_acc: 0.8568\n",
            "Epoch 47/100\n",
            "4689/4689 [==============================] - 1s 163us/step - loss: 0.3315 - acc: 0.8659 - val_loss: 0.3590 - val_acc: 0.8537\n",
            "Epoch 48/100\n",
            "4689/4689 [==============================] - 1s 161us/step - loss: 0.3307 - acc: 0.8646 - val_loss: 0.3576 - val_acc: 0.8516\n",
            "Epoch 49/100\n",
            "4689/4689 [==============================] - 1s 160us/step - loss: 0.3311 - acc: 0.8639 - val_loss: 0.3577 - val_acc: 0.8542\n",
            "Epoch 50/100\n",
            "4689/4689 [==============================] - 1s 159us/step - loss: 0.3308 - acc: 0.8635 - val_loss: 0.3570 - val_acc: 0.8533\n",
            "Epoch 51/100\n",
            "4689/4689 [==============================] - 1s 163us/step - loss: 0.3294 - acc: 0.8650 - val_loss: 0.3598 - val_acc: 0.8516\n",
            "Epoch 52/100\n",
            "4689/4689 [==============================] - 1s 162us/step - loss: 0.3300 - acc: 0.8644 - val_loss: 0.3571 - val_acc: 0.8555\n",
            "Epoch 53/100\n",
            "4689/4689 [==============================] - 1s 170us/step - loss: 0.3293 - acc: 0.8639 - val_loss: 0.3559 - val_acc: 0.8542\n",
            "Epoch 54/100\n",
            "4689/4689 [==============================] - 1s 160us/step - loss: 0.3293 - acc: 0.8642 - val_loss: 0.3555 - val_acc: 0.8542\n",
            "Epoch 55/100\n",
            "4689/4689 [==============================] - 1s 160us/step - loss: 0.3298 - acc: 0.8644 - val_loss: 0.3556 - val_acc: 0.8546\n",
            "Epoch 56/100\n",
            "4689/4689 [==============================] - 1s 163us/step - loss: 0.3283 - acc: 0.8663 - val_loss: 0.3564 - val_acc: 0.8546\n",
            "Epoch 57/100\n",
            "4689/4689 [==============================] - 1s 159us/step - loss: 0.3285 - acc: 0.8631 - val_loss: 0.3551 - val_acc: 0.8542\n",
            "Epoch 58/100\n",
            "4689/4689 [==============================] - 1s 164us/step - loss: 0.3283 - acc: 0.8669 - val_loss: 0.3561 - val_acc: 0.8542\n",
            "Epoch 59/100\n",
            "4689/4689 [==============================] - 1s 159us/step - loss: 0.3285 - acc: 0.8639 - val_loss: 0.3555 - val_acc: 0.8542\n",
            "Epoch 60/100\n",
            "4689/4689 [==============================] - 1s 153us/step - loss: 0.3280 - acc: 0.8665 - val_loss: 0.3549 - val_acc: 0.8533\n",
            "Epoch 61/100\n",
            "4689/4689 [==============================] - 1s 157us/step - loss: 0.3276 - acc: 0.8650 - val_loss: 0.3555 - val_acc: 0.8524\n",
            "Epoch 62/100\n",
            "4689/4689 [==============================] - 1s 168us/step - loss: 0.3277 - acc: 0.8654 - val_loss: 0.3570 - val_acc: 0.8537\n",
            "Epoch 63/100\n",
            "4689/4689 [==============================] - 1s 173us/step - loss: 0.3280 - acc: 0.8654 - val_loss: 0.3557 - val_acc: 0.8537\n",
            "Epoch 64/100\n",
            "4689/4689 [==============================] - 1s 176us/step - loss: 0.3277 - acc: 0.8637 - val_loss: 0.3561 - val_acc: 0.8524\n",
            "Epoch 65/100\n",
            "4689/4689 [==============================] - 1s 171us/step - loss: 0.3277 - acc: 0.8637 - val_loss: 0.3565 - val_acc: 0.8546\n",
            "Epoch 66/100\n",
            "4689/4689 [==============================] - 1s 173us/step - loss: 0.3271 - acc: 0.8676 - val_loss: 0.3552 - val_acc: 0.8542\n",
            "Epoch 67/100\n",
            "4689/4689 [==============================] - 1s 177us/step - loss: 0.3270 - acc: 0.8624 - val_loss: 0.3540 - val_acc: 0.8546\n",
            "Epoch 68/100\n",
            "4689/4689 [==============================] - 1s 173us/step - loss: 0.3268 - acc: 0.8648 - val_loss: 0.3559 - val_acc: 0.8533\n",
            "Epoch 69/100\n",
            "4689/4689 [==============================] - 1s 165us/step - loss: 0.3267 - acc: 0.8667 - val_loss: 0.3554 - val_acc: 0.8546\n",
            "Epoch 70/100\n",
            "4689/4689 [==============================] - 1s 159us/step - loss: 0.3260 - acc: 0.8659 - val_loss: 0.3563 - val_acc: 0.8529\n",
            "Epoch 71/100\n",
            "4689/4689 [==============================] - 1s 156us/step - loss: 0.3262 - acc: 0.8663 - val_loss: 0.3570 - val_acc: 0.8533\n",
            "Epoch 72/100\n",
            "4689/4689 [==============================] - 1s 160us/step - loss: 0.3261 - acc: 0.8648 - val_loss: 0.3559 - val_acc: 0.8524\n",
            "Epoch 73/100\n",
            "4689/4689 [==============================] - 1s 154us/step - loss: 0.3258 - acc: 0.8624 - val_loss: 0.3576 - val_acc: 0.8537\n",
            "Epoch 74/100\n",
            "4689/4689 [==============================] - 1s 153us/step - loss: 0.3261 - acc: 0.8661 - val_loss: 0.3555 - val_acc: 0.8533\n",
            "Epoch 75/100\n",
            "4689/4689 [==============================] - 1s 161us/step - loss: 0.3255 - acc: 0.8650 - val_loss: 0.3559 - val_acc: 0.8537\n",
            "Epoch 76/100\n",
            "4689/4689 [==============================] - 1s 159us/step - loss: 0.3254 - acc: 0.8656 - val_loss: 0.3558 - val_acc: 0.8533\n",
            "Epoch 77/100\n",
            "4689/4689 [==============================] - 1s 158us/step - loss: 0.3251 - acc: 0.8629 - val_loss: 0.3595 - val_acc: 0.8555\n",
            "Epoch 78/100\n",
            "4689/4689 [==============================] - 1s 157us/step - loss: 0.3262 - acc: 0.8665 - val_loss: 0.3574 - val_acc: 0.8533\n",
            "Epoch 79/100\n",
            "4689/4689 [==============================] - 1s 162us/step - loss: 0.3259 - acc: 0.8678 - val_loss: 0.3545 - val_acc: 0.8550\n",
            "Epoch 80/100\n",
            "4689/4689 [==============================] - 1s 161us/step - loss: 0.3255 - acc: 0.8665 - val_loss: 0.3561 - val_acc: 0.8546\n",
            "Epoch 81/100\n",
            "4689/4689 [==============================] - 1s 168us/step - loss: 0.3255 - acc: 0.8639 - val_loss: 0.3552 - val_acc: 0.8542\n",
            "Epoch 82/100\n",
            "4689/4689 [==============================] - 1s 161us/step - loss: 0.3253 - acc: 0.8656 - val_loss: 0.3555 - val_acc: 0.8555\n",
            "Epoch 83/100\n",
            "4689/4689 [==============================] - 1s 162us/step - loss: 0.3249 - acc: 0.8635 - val_loss: 0.3550 - val_acc: 0.8568\n",
            "Epoch 84/100\n",
            "4689/4689 [==============================] - 1s 165us/step - loss: 0.3251 - acc: 0.8654 - val_loss: 0.3565 - val_acc: 0.8563\n",
            "Epoch 85/100\n",
            "4689/4689 [==============================] - 1s 161us/step - loss: 0.3248 - acc: 0.8665 - val_loss: 0.3555 - val_acc: 0.8550\n",
            "Epoch 86/100\n",
            "4689/4689 [==============================] - 1s 154us/step - loss: 0.3253 - acc: 0.8652 - val_loss: 0.3561 - val_acc: 0.8563\n",
            "Epoch 87/100\n",
            "4689/4689 [==============================] - 1s 162us/step - loss: 0.3250 - acc: 0.8661 - val_loss: 0.3549 - val_acc: 0.8559\n",
            "Epoch 88/100\n",
            "4689/4689 [==============================] - 1s 159us/step - loss: 0.3247 - acc: 0.8646 - val_loss: 0.3553 - val_acc: 0.8550\n",
            "Epoch 89/100\n",
            "4689/4689 [==============================] - 1s 158us/step - loss: 0.3246 - acc: 0.8656 - val_loss: 0.3558 - val_acc: 0.8542\n",
            "Epoch 90/100\n",
            "4689/4689 [==============================] - 1s 157us/step - loss: 0.3241 - acc: 0.8667 - val_loss: 0.3544 - val_acc: 0.8550\n",
            "Epoch 91/100\n",
            "4689/4689 [==============================] - 1s 159us/step - loss: 0.3247 - acc: 0.8637 - val_loss: 0.3555 - val_acc: 0.8550\n",
            "Epoch 92/100\n",
            "4689/4689 [==============================] - 1s 167us/step - loss: 0.3246 - acc: 0.8669 - val_loss: 0.3550 - val_acc: 0.8546\n",
            "Epoch 93/100\n",
            "4689/4689 [==============================] - 1s 158us/step - loss: 0.3245 - acc: 0.8663 - val_loss: 0.3565 - val_acc: 0.8555\n",
            "Epoch 94/100\n",
            "4689/4689 [==============================] - 1s 160us/step - loss: 0.3246 - acc: 0.8646 - val_loss: 0.3559 - val_acc: 0.8533\n",
            "Epoch 95/100\n",
            "4689/4689 [==============================] - 1s 162us/step - loss: 0.3237 - acc: 0.8659 - val_loss: 0.3562 - val_acc: 0.8555\n",
            "Epoch 96/100\n",
            "4689/4689 [==============================] - 1s 158us/step - loss: 0.3242 - acc: 0.8648 - val_loss: 0.3560 - val_acc: 0.8563\n",
            "Epoch 97/100\n",
            "4689/4689 [==============================] - 1s 160us/step - loss: 0.3239 - acc: 0.8642 - val_loss: 0.3566 - val_acc: 0.8537\n",
            "Epoch 98/100\n",
            "4689/4689 [==============================] - 1s 160us/step - loss: 0.3237 - acc: 0.8646 - val_loss: 0.3565 - val_acc: 0.8546\n",
            "Epoch 99/100\n",
            "4689/4689 [==============================] - 1s 162us/step - loss: 0.3238 - acc: 0.8669 - val_loss: 0.3551 - val_acc: 0.8550\n",
            "Epoch 100/100\n",
            "4689/4689 [==============================] - 1s 159us/step - loss: 0.3240 - acc: 0.8639 - val_loss: 0.3563 - val_acc: 0.8537\n"
          ],
          "name": "stdout"
        }
      ]
    },
    {
      "cell_type": "code",
      "metadata": {
        "id": "GIeYz9gDETN0",
        "colab_type": "code",
        "outputId": "040ecc06-d684-4b55-cef2-d435e2e783b6",
        "colab": {
          "base_uri": "https://localhost:8080/",
          "height": 34
        }
      },
      "source": [
        "print(model_history.history.keys())\n"
      ],
      "execution_count": 0,
      "outputs": [
        {
          "output_type": "stream",
          "text": [
            "dict_keys(['val_loss', 'val_acc', 'loss', 'acc'])\n"
          ],
          "name": "stdout"
        }
      ]
    },
    {
      "cell_type": "code",
      "metadata": {
        "id": "Kms420GlEdzT",
        "colab_type": "code",
        "colab": {}
      },
      "source": [
        "y_pred = classifier.predict(x_test)\n",
        "y_pred = (y_pred > 0.5)"
      ],
      "execution_count": 0,
      "outputs": []
    },
    {
      "cell_type": "code",
      "metadata": {
        "id": "tLMiiR8xL6dA",
        "colab_type": "code",
        "colab": {
          "base_uri": "https://localhost:8080/",
          "height": 136
        },
        "outputId": "f1df2a13-42aa-42f4-b53a-3d54ccc64386"
      },
      "source": [
        "y_pred"
      ],
      "execution_count": 21,
      "outputs": [
        {
          "output_type": "execute_result",
          "data": {
            "text/plain": [
              "array([[ True],\n",
              "       [ True],\n",
              "       [ True],\n",
              "       ...,\n",
              "       [ True],\n",
              "       [ True],\n",
              "       [ True]])"
            ]
          },
          "metadata": {
            "tags": []
          },
          "execution_count": 21
        }
      ]
    },
    {
      "cell_type": "code",
      "metadata": {
        "id": "LqDuC9ehFHuE",
        "colab_type": "code",
        "outputId": "30ea6d65-6a5d-423d-fadb-3beaf1903c1c",
        "colab": {
          "base_uri": "https://localhost:8080/",
          "height": 51
        }
      },
      "source": [
        "from sklearn.metrics import confusion_matrix\n",
        "cm = confusion_matrix(y_test, y_pred)\n",
        "cm"
      ],
      "execution_count": 0,
      "outputs": [
        {
          "output_type": "execute_result",
          "data": {
            "text/plain": [
              "array([[2379,    0],\n",
              "       [ 621,    0]])"
            ]
          },
          "metadata": {
            "tags": []
          },
          "execution_count": 28
        }
      ]
    },
    {
      "cell_type": "code",
      "metadata": {
        "id": "XMHk99lmFaDO",
        "colab_type": "code",
        "outputId": "6d04ef9f-653e-455e-d134-6e3a9c7494e4",
        "colab": {
          "base_uri": "https://localhost:8080/",
          "height": 34
        }
      },
      "source": [
        "from sklearn.metrics import accuracy_score\n",
        "score=accuracy_score(y_pred,y_test)\n",
        "score"
      ],
      "execution_count": 0,
      "outputs": [
        {
          "output_type": "execute_result",
          "data": {
            "text/plain": [
              "0.793"
            ]
          },
          "metadata": {
            "tags": []
          },
          "execution_count": 30
        }
      ]
    },
    {
      "cell_type": "code",
      "metadata": {
        "id": "ji_HV3NuFeJ5",
        "colab_type": "code",
        "colab": {}
      },
      "source": [
        "##By hyperparameter tunning and finding the no of hidden units required in the neural network and what is the best activation function and weight \n",
        "##initalizer"
      ],
      "execution_count": 0,
      "outputs": []
    },
    {
      "cell_type": "code",
      "metadata": {
        "id": "up0g276nGkDi",
        "colab_type": "code",
        "colab": {}
      },
      "source": [
        "from keras.wrappers.scikit_learn import KerasClassifier\n",
        "from sklearn.model_selection import GridSearchCV\n"
      ],
      "execution_count": 0,
      "outputs": []
    },
    {
      "cell_type": "code",
      "metadata": {
        "id": "PeY1jClxHEiA",
        "colab_type": "code",
        "colab": {}
      },
      "source": [
        "from keras.models import Sequential\n",
        "from keras.layers import Dense,Activation,Flatten,Embedding,LeakyReLU,BatchNormalization\n",
        "from keras.activations import relu,sigmoid\n",
        "from keras.layers import Dropout"
      ],
      "execution_count": 0,
      "outputs": []
    },
    {
      "cell_type": "code",
      "metadata": {
        "id": "FONnDeCXHgAa",
        "colab_type": "code",
        "colab": {}
      },
      "source": [
        "def create_model(layers, activation):\n",
        "    model = Sequential()\n",
        "    for i, nodes in enumerate(layers):\n",
        "        if i==0:\n",
        "            model.add(Dense(nodes,input_dim=X_train.shape[1]))\n",
        "            model.add(Activation(activation))\n",
        "            model.add(Dropout(0.3))\n",
        "        else:\n",
        "            model.add(Dense(nodes))\n",
        "            model.add(Activation(activation))\n",
        "            model.add(Dropout(0.3))\n",
        "            \n",
        "    model.add(Dense(units = 1, kernel_initializer= 'glorot_uniform', activation = 'sigmoid')) # Note: no activation beyond this point\n",
        "    \n",
        "    model.compile(optimizer='adam', loss='binary_crossentropy',metrics=['accuracy'])\n",
        "    return model\n"
      ],
      "execution_count": 0,
      "outputs": []
    },
    {
      "cell_type": "code",
      "metadata": {
        "id": "mqNvCu-eMMxy",
        "colab_type": "code",
        "colab": {}
      },
      "source": [
        "model = KerasClassifier(build_fn=create_model, verbose=0)\n"
      ],
      "execution_count": 0,
      "outputs": []
    },
    {
      "cell_type": "code",
      "metadata": {
        "id": "B54ihldfN01g",
        "colab_type": "code",
        "colab": {}
      },
      "source": [
        "layers = [[20], [40, 20], [45, 30, 15]]\n",
        "activations = ['sigmoid', 'relu']\n",
        "param_grid = dict(layers=layers, activation=activations, batch_size = [128, 256], epochs=[30])\n",
        "grid = GridSearchCV(estimator=model, param_grid=param_grid,cv=5)\n",
        "\n",
        "grid_result = grid.fit(X_train, y_train)"
      ],
      "execution_count": 0,
      "outputs": []
    },
    {
      "cell_type": "code",
      "metadata": {
        "id": "53tQKK2FPM1h",
        "colab_type": "code",
        "colab": {}
      },
      "source": [
        ""
      ],
      "execution_count": 0,
      "outputs": []
    }
  ]
}